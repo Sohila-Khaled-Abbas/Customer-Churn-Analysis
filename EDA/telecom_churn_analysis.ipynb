{
 "cells": [
  {
   "cell_type": "markdown",
   "id": "e0a53da3",
   "metadata": {},
   "source": [
    "# Telecom Customer Churn Analysis Notebook"
   ]
  },
  {
   "cell_type": "markdown",
   "id": "477ea0fc",
   "metadata": {},
   "source": [
    "## --- 1. Import Libraries ---"
   ]
  },
  {
   "cell_type": "code",
   "execution_count": null,
   "id": "bb1a9440",
   "metadata": {},
   "outputs": [],
   "source": [
    "import pandas as pd\n",
    "import numpy as np\n",
    "import matplotlib.pyplot as plt\n",
    "import seaborn as sns\n",
    "from sklearn.model_selection import train_test_split\n",
    "from sklearn.preprocessing import StandardScaler\n",
    "from sklearn.linear_model import LogisticRegression\n",
    "from sklearn.ensemble import RandomForestClassifier\n",
    "from sklearn.metrics import classification_report, confusion_matrix, roc_auc_score, roc_curve"
   ]
  },
  {
   "cell_type": "markdown",
   "id": "9e2da4be",
   "metadata": {},
   "source": [
    "## --- 2. Load Data ---"
   ]
  },
  {
   "cell_type": "code",
   "execution_count": null,
   "id": "0937f238",
   "metadata": {},
   "outputs": [],
   "source": [
    "data_path = \"../raw_data/telecom_churn.csv\"\n",
    "df = pd.read_csv(data_path)\n",
    "\n",
    "print(\"Shape of dataset:\", df.shape)\n",
    "df.head()"
   ]
  },
  {
   "cell_type": "markdown",
   "id": "123fc6c8",
   "metadata": {},
   "source": [
    "## --- 3. Data Cleaning ---"
   ]
  },
  {
   "cell_type": "code",
   "execution_count": null,
   "id": "1f99a3b9",
   "metadata": {},
   "outputs": [],
   "source": [
    "# Check for missing values\n",
    "print(df.isnull().sum())"
   ]
  },
  {
   "cell_type": "code",
   "execution_count": null,
   "id": "aefdb999",
   "metadata": {},
   "outputs": [],
   "source": [
    "# Drop duplicates if any\n",
    "df.drop_duplicates(inplace=True)"
   ]
  },
  {
   "cell_type": "code",
   "execution_count": null,
   "id": "4b9a4274",
   "metadata": {},
   "outputs": [],
   "source": [
    "# Handle missing values (example: fill numeric with median, categorical with mode)\n",
    "for col in df.select_dtypes(include=['float64','int64']).columns:\n",
    "    df[col] = df[col].fillna(df[col].median())\n",
    "\n",
    "for col in df.select_dtypes(include=['object']).columns:\n",
    "    df[col] = df[col].fillna(df[col].mode()[0])\n",
    "# Convert categorical variables to numerical using one-hot encoding\n",
    "df = pd.get_dummies(df, drop_first=True)"
   ]
  },
  {
   "cell_type": "markdown",
   "id": "009d04ab",
   "metadata": {},
   "source": [
    "## --- 4. Exploratory Data Analysis (EDA) ---"
   ]
  },
  {
   "cell_type": "code",
   "execution_count": null,
   "id": "c9acb427",
   "metadata": {},
   "outputs": [],
   "source": [
    "plt.figure(figsize=(6,4))\n",
    "sns.countplot(data=df, x='Churn')\n",
    "plt.title(\"Churn Distribution\")\n",
    "plt.show()"
   ]
  },
  {
   "cell_type": "code",
   "execution_count": null,
   "id": "3793169a",
   "metadata": {},
   "outputs": [],
   "source": [
    "# Example: Churn by Contract type\n",
    "plt.figure(figsize=(6,4))\n",
    "sns.countplot(data=df, x='Contract', hue='Churn')\n",
    "plt.title(\"Churn by Contract Type\")\n",
    "plt.show()\n"
   ]
  },
  {
   "cell_type": "code",
   "execution_count": null,
   "id": "9cf553fd",
   "metadata": {},
   "outputs": [],
   "source": [
    "# Correlation heatmap (numeric features)\n",
    "plt.figure(figsize=(10,6))\n",
    "sns.heatmap(df.corr(), annot=False, cmap='coolwarm')\n",
    "plt.title(\"Correlation Heatmap\")\n",
    "plt.show()\n"
   ]
  },
  {
   "cell_type": "markdown",
   "id": "75d7078d",
   "metadata": {},
   "source": [
    "## --- 5. Feature Engineering ---"
   ]
  },
  {
   "cell_type": "code",
   "execution_count": null,
   "id": "51373864",
   "metadata": {},
   "outputs": [],
   "source": [
    "# Convert categorical to dummy variables\n",
    "df_encoded = pd.get_dummies(df, drop_first=True)\n"
   ]
  },
  {
   "cell_type": "code",
   "execution_count": null,
   "id": "ed80cb9a",
   "metadata": {},
   "outputs": [],
   "source": [
    "# Split features and target\n",
    "X = df_encoded.drop('Churn_Yes', axis=1)\n",
    "y = df_encoded['Churn_Yes']\n"
   ]
  },
  {
   "cell_type": "code",
   "execution_count": null,
   "id": "b1d23a16",
   "metadata": {},
   "outputs": [],
   "source": [
    "# Train/Test split\n",
    "X_train, X_test, y_train, y_test = train_test_split(X, y, test_size=0.2, random_state=42, stratify=y)\n"
   ]
  },
  {
   "cell_type": "code",
   "execution_count": null,
   "id": "919659c5",
   "metadata": {},
   "outputs": [],
   "source": [
    "# Standardize numeric features\n",
    "scaler = StandardScaler()\n",
    "X_train = scaler.fit_transform(X_train)\n",
    "X_test = scaler.transform(X_test)\n"
   ]
  },
  {
   "cell_type": "markdown",
   "id": "f1e765e8",
   "metadata": {},
   "source": [
    "## --- 6. Model Training ---"
   ]
  },
  {
   "cell_type": "code",
   "execution_count": null,
   "id": "6328dbc1",
   "metadata": {},
   "outputs": [],
   "source": [
    "# Logistic Regression\n",
    "logreg = LogisticRegression(max_iter=1000)\n",
    "logreg.fit(X_train, y_train)\n",
    "y_pred_lr = logreg.predict(X_test)\n",
    "\n",
    "print(\"Logistic Regression Report:\")\n",
    "print(classification_report(y_test, y_pred_lr))"
   ]
  },
  {
   "cell_type": "code",
   "execution_count": null,
   "id": "24afa87d",
   "metadata": {},
   "outputs": [],
   "source": [
    "# Random Forest Classifier\n",
    "rf = RandomForestClassifier(n_estimators=100, random_state=42)\n",
    "rf.fit(X_train, y_train)\n",
    "y_pred_rf = rf.predict(X_test)\n",
    "\n",
    "print(\"Random Forest Report:\")\n",
    "print(classification_report(y_test, y_pred_rf))"
   ]
  },
  {
   "cell_type": "markdown",
   "id": "49c4fd45",
   "metadata": {},
   "source": [
    "## --- 7. Evaluation ---"
   ]
  },
  {
   "cell_type": "code",
   "execution_count": null,
   "id": "409c2f02",
   "metadata": {},
   "outputs": [],
   "source": [
    "# Confusion Matrix for Random Forest\n",
    "cm = confusion_matrix(y_test, y_pred_rf)\n",
    "sns.heatmap(cm, annot=True, fmt='d', cmap='Blues')\n",
    "plt.title(\"Confusion Matrix - Random Forest\")\n",
    "plt.show()"
   ]
  },
  {
   "cell_type": "code",
   "execution_count": null,
   "id": "304b5d0e",
   "metadata": {},
   "outputs": [],
   "source": [
    "# ROC Curve\n",
    "fpr, tpr, _ = roc_curve(y_test, rf.predict_proba(X_test)[:,1])\n",
    "plt.plot(fpr, tpr, label='Random Forest')\n",
    "plt.plot([0,1],[0,1],'k--')\n",
    "plt.xlabel('False Positive Rate')\n",
    "plt.ylabel('True Positive Rate')\n",
    "plt.title('ROC Curve')\n",
    "plt.legend()\n",
    "plt.show()\n",
    "\n",
    "print(\"Random Forest ROC-AUC:\", roc_auc_score(y_test, rf.predict_proba(X_test)[:,1]))"
   ]
  },
  {
   "cell_type": "markdown",
   "id": "6a1093c3",
   "metadata": {},
   "source": [
    "## --- 8. Insights & Recommendations ---"
   ]
  },
  {
   "cell_type": "code",
   "execution_count": null,
   "id": "a7430744",
   "metadata": {},
   "outputs": [],
   "source": [
    "# - Customers on month-to-month contracts churn more\n",
    "# - Longer tenure reduces churn risk\n",
    "# - Customers with high monthly charges are more likely to churn\n",
    "# - Recommend loyalty programs, bundle discounts, personalized offers"
   ]
  },
  {
   "cell_type": "markdown",
   "id": "c20c60c7",
   "metadata": {},
   "source": [
    "## --- 9. Next Steps ---"
   ]
  },
  {
   "cell_type": "code",
   "execution_count": null,
   "id": "de5ccaa4",
   "metadata": {},
   "outputs": [],
   "source": [
    "# Export model predictions for Power BI dashboard\n",
    "predictions = pd.DataFrame({\n",
    "    'CustomerID': df['customerID'],\n",
    "    'ActualChurn': y,\n",
    "    'PredictedChurn_RF': rf.predict(X)\n",
    "})\n",
    "\n",
    "predictions.to_csv(\"../data/processed/churn_predictions.csv\", index=False)\n",
    "\n",
    "print(\"Predictions exported to ../data/processed/churn_predictions.csv\")"
   ]
  }
 ],
 "metadata": {
  "kernelspec": {
   "display_name": "Python 3",
   "language": "python",
   "name": "python3"
  },
  "language_info": {
   "name": "python",
   "version": "3.13.0"
  }
 },
 "nbformat": 4,
 "nbformat_minor": 5
}
